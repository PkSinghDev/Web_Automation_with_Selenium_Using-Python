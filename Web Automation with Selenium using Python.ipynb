{
 "cells": [
  {
   "cell_type": "code",
   "execution_count": 1,
   "id": "6d71c284",
   "metadata": {},
   "outputs": [],
   "source": [
    "%config Completer.use_jedi = False"
   ]
  },
  {
   "cell_type": "code",
   "execution_count": 2,
   "id": "629cd6e7",
   "metadata": {},
   "outputs": [],
   "source": [
    "from selenium import webdriver\n",
    "from selenium.webdriver.common.keys import Keys\n",
    "from selenium.webdriver.support.ui import WebDriverWait\n",
    "from selenium.webdriver.support import expected_conditions as EC"
   ]
  },
  {
   "cell_type": "code",
   "execution_count": 3,
   "id": "d2daae69",
   "metadata": {},
   "outputs": [],
   "source": [
    "browser = webdriver.Chrome(executable_path=r'C:\\Users\\805313\\Downloads\\chromedriver.exe')"
   ]
  },
  {
   "cell_type": "code",
   "execution_count": 4,
   "id": "73191c1c",
   "metadata": {},
   "outputs": [],
   "source": [
    "browser.maximize_window()"
   ]
  },
  {
   "cell_type": "code",
   "execution_count": 5,
   "id": "0c11d88a",
   "metadata": {},
   "outputs": [],
   "source": [
    "browser.get(\"https://www.codechef.com\")"
   ]
  },
  {
   "cell_type": "code",
   "execution_count": 6,
   "id": "eb08ab2d",
   "metadata": {},
   "outputs": [],
   "source": [
    "browser.find_element_by_class_name(\"m-login-button\").click()"
   ]
  },
  {
   "cell_type": "code",
   "execution_count": 7,
   "id": "cef9ecdb",
   "metadata": {},
   "outputs": [],
   "source": [
    "# username_element = browser.find_element_by_id(\"edit-name\")\n",
    "# browser.execute_script(\"arguments[0].click();\", username_element)\n",
    "\n",
    "username_element = browser.find_element_by_id(\"edit-name\")\n",
    "browser.execute_script(\"arguments[0].setAttribute('value', '\" + \"pksingh123\" +\"')\", username_element);\n",
    "# print(browser.execute_script(\"return document.getElementById('edit-name').value\"))"
   ]
  },
  {
   "cell_type": "code",
   "execution_count": 8,
   "id": "074a35a2",
   "metadata": {},
   "outputs": [],
   "source": [
    "from getpass import getpass"
   ]
  },
  {
   "cell_type": "code",
   "execution_count": 9,
   "id": "dd90829c",
   "metadata": {},
   "outputs": [
    {
     "name": "stdout",
     "output_type": "stream",
     "text": [
      "Enter your password: ········\n"
     ]
    }
   ],
   "source": [
    "pwd = getpass(\"Enter your password: \")\n",
    "password_element = browser.find_element_by_id(\"edit-pass\")\n",
    "browser.execute_script(\"arguments[0].setAttribute('value', '\" + pwd +\"')\", password_element);"
   ]
  },
  {
   "cell_type": "code",
   "execution_count": 10,
   "id": "4dae7f7c",
   "metadata": {},
   "outputs": [],
   "source": [
    "browser.execute_script(\"document.getElementById('edit-submit').click()\")"
   ]
  },
  {
   "cell_type": "code",
   "execution_count": 11,
   "id": "51266aff",
   "metadata": {},
   "outputs": [],
   "source": [
    "browser.get(\"https://www.codechef.com/submit/TEST\")"
   ]
  },
  {
   "cell_type": "code",
   "execution_count": 12,
   "id": "77a2f775",
   "metadata": {},
   "outputs": [],
   "source": [
    "import pyautogui\n",
    "import time\n",
    "\n",
    "# time.sleep(10)\n",
    "button = WebDriverWait(browser, 30).until(lambda x: x.find_element_by_xpath('/html/body/center/center/table/tbody/tr/td/div/div/div/div[2]/div/div/div/div/div/div/div[3]/div/div/div[1]/button'))\n",
    "# print(button)\n",
    "browser.execute_script(\"arguments[0].scrollIntoView();\", button)\n",
    "button.click()\n",
    "time.sleep(10) # wait for popup to open\n",
    "pyautogui.write(r\"C:\\Users\\805313\\Documents\\Jupyter Python Projects\\Web Essentials using Python\\Web Automation with Selenium\\Solution.java\") #path of File\n",
    "pyautogui.press('enter')"
   ]
  },
  {
   "cell_type": "code",
   "execution_count": 13,
   "id": "281a3539",
   "metadata": {},
   "outputs": [],
   "source": [
    "time.sleep(3)"
   ]
  },
  {
   "cell_type": "code",
   "execution_count": 14,
   "id": "77e05709",
   "metadata": {},
   "outputs": [],
   "source": [
    "\n",
    "WebDriverWait(browser, 30).until(lambda x: x.find_element_by_xpath('//*[@id=\"ember353\"]/div/div[1]/div[2]/div/button')).click()"
   ]
  },
  {
   "cell_type": "code",
   "execution_count": 15,
   "id": "da668a63",
   "metadata": {},
   "outputs": [],
   "source": [
    "WebDriverWait(browser, 10).until(EC.alert_is_present())\n",
    "browser.switch_to.alert.accept()"
   ]
  },
  {
   "cell_type": "markdown",
   "id": "55be3366",
   "metadata": {},
   "source": [
    "### "
   ]
  }
 ],
 "metadata": {
  "kernelspec": {
   "display_name": "Python 3",
   "language": "python",
   "name": "python3"
  },
  "language_info": {
   "codemirror_mode": {
    "name": "ipython",
    "version": 3
   },
   "file_extension": ".py",
   "mimetype": "text/x-python",
   "name": "python",
   "nbconvert_exporter": "python",
   "pygments_lexer": "ipython3",
   "version": "3.7.10"
  }
 },
 "nbformat": 4,
 "nbformat_minor": 5
}
